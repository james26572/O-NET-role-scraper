{
 "cells": [
  {
   "cell_type": "code",
   "execution_count": 42,
   "metadata": {},
   "outputs": [],
   "source": [
    "from abilities_matching import get_abilities_corrs\n",
    "from detailed_work_activities_matching import get_occ_detailed_work_activities_corrs\n",
    "\n",
    "from skills_matching import get_occ_skill_corrs\n",
    "from tech_skills_matching import get_occ_tech_skills_corrs\n",
    "from work_activities_matching import get_work_activities_corrs\n",
    "\n",
    "\n",
    "\n",
    "\n",
    "occs = ['Business Intelligence Analysts', 'Biostatisticians', 'Clinical Data Managers',\n",
    "         'Financial Quantitative Analysts', 'Management Analysts', 'Mathematicians',\n",
    "           'Operations Research Analysts', 'Advertising and Promotions Manager',\n",
    "             'Market Research Analysts and Marketing Specialists']"
   ]
  },
  {
   "cell_type": "code",
   "execution_count": 43,
   "metadata": {},
   "outputs": [],
   "source": [
    "import numpy as np\n",
    "\n",
    "corr_matrix_abilities = get_abilities_corrs()\n",
    "corr_matrix_detailed_work_activities = get_occ_detailed_work_activities_corrs()\n",
    "\n",
    "corr_matrix_skills = get_occ_skill_corrs()\n",
    "corr_matrix_tech_skills = get_occ_tech_skills_corrs()\n",
    "corr_matrix_tasks = np.load('matrix_data_working.npy')\n",
    "corr_matrix_work_activities = get_work_activities_corrs()\n",
    "\n",
    "\n"
   ]
  },
  {
   "cell_type": "code",
   "execution_count": 54,
   "metadata": {},
   "outputs": [
    {
     "name": "stdout",
     "output_type": "stream",
     "text": [
      "Mean correlation for occupation abilities:  51.25716049382716\n",
      "Mean correlation for occupation detailed work activities:  20.374567901234567\n",
      "Mean correlation for occupation skills:  48.21111111111111\n",
      "Mean correlation for occupation technology skills:  42.10123456790123\n",
      "Mean correlation for occupation tasks:  35.8602692393542\n",
      "Mean correlation for occupation work activities:  37.760617283950616\n"
     ]
    }
   ],
   "source": [
    "\n",
    "\n",
    "mean_abilities_corr = np.mean(corr_matrix_abilities)\n",
    "mean_detailed_work_activities_corr = np.mean(corr_matrix_detailed_work_activities)\n",
    "\n",
    "mean_skills_corr = np.mean(corr_matrix_skills)\n",
    "mean_tech_skills_corr = np.mean(corr_matrix_tech_skills)\n",
    "mean_tasks_corr = np.mean(corr_matrix_tasks)\n",
    "mean_work_activities = np.mean(corr_matrix_work_activities)\n",
    "\n",
    "\n",
    "\n",
    "print(\"Mean correlation for occupation abilities: \",mean_abilities_corr)\n",
    "print(\"Mean correlation for occupation detailed work activities: \",mean_detailed_work_activities_corr)\n",
    "\n",
    "print(\"Mean correlation for occupation skills: \",mean_skills_corr)\n",
    "print(\"Mean correlation for occupation technology skills: \",mean_tech_skills_corr)\n",
    "print(\"Mean correlation for occupation tasks: \",mean_tasks_corr)\n",
    "print(\"Mean correlation for occupation work activities: \",mean_work_activities)\n"
   ]
  },
  {
   "cell_type": "code",
   "execution_count": 15,
   "metadata": {},
   "outputs": [
    {
     "data": {
      "text/plain": [
       "100.0"
      ]
     },
     "execution_count": 15,
     "metadata": {},
     "output_type": "execute_result"
    }
   ],
   "source": [
    "max_abilities = np.max(corr_matrix_abilities)\n",
    "max_abilities"
   ]
  },
  {
   "cell_type": "code",
   "execution_count": 16,
   "metadata": {},
   "outputs": [
    {
     "data": {
      "text/plain": [
       "22.22"
      ]
     },
     "execution_count": 16,
     "metadata": {},
     "output_type": "execute_result"
    }
   ],
   "source": [
    "min_abilities = np.min(corr_matrix_abilities)\n",
    "min_abilities"
   ]
  },
  {
   "cell_type": "code",
   "execution_count": 33,
   "metadata": {},
   "outputs": [],
   "source": [
    "def find_strongest_correlation(matrix):\n",
    "    # Set diagonals to a low value to exclude them from consideration\n",
    "    np.fill_diagonal(matrix, -1)\n",
    "    \n",
    "    # Find the index of the maximum correlation\n",
    "    idx = np.unravel_index(np.argmax(matrix), matrix.shape)\n",
    "    max_val = np.max(matrix)\n",
    "\n",
    "    np.fill_diagonal(matrix,100)\n",
    "    \n",
    "    return idx,max_val\n",
    "\n",
    "\n",
    "def find_weakest_correlation(matrix):\n",
    "    # Set diagonals to a low value to exclude them from consideration\n",
    "    np.fill_diagonal(matrix, 101)\n",
    "    \n",
    "    # Find the index of the maximum correlation\n",
    "    idx = np.unravel_index(np.argmin(matrix), matrix.shape)\n",
    "    min_val = np.min(matrix)\n",
    "\n",
    "    np.fill_diagonal(matrix,100)\n",
    "    \n",
    "    return idx,min_val"
   ]
  },
  {
   "cell_type": "code",
   "execution_count": 55,
   "metadata": {},
   "outputs": [
    {
     "name": "stdout",
     "output_type": "stream",
     "text": [
      "Most correlated occupation pair based on ability dimension: (Market Research Analysts and Marketing Specialists , Biostatisticians) Correlation: 70.59\n",
      "Most correlated occupation pair based on detailed work activity dimension: (Biostatisticians , Mathematicians)Correlation: 80.0\n",
      "Most correlated occupation pair based on work activity dimension: (Business Intelligence Analysts , Market Research Analysts and Marketing Specialists)Correlation: 57.14\n",
      "Most correlated occupation pair based on skills dimension: (Market Research Analysts and Marketing Specialists , Financial Quantitative Analysts)Correlation: 82.35\n",
      "Most correlated occupation pair based on technology skills dimension: (Management Analysts , Business Intelligence Analysts)Correlation: 78.63\n",
      "Most correlated occupation pair based on tasks dimension: (Market Research Analysts and Marketing Specialists , Advertising and Promotions Manager)Correlation: 69.23076923076923\n"
     ]
    }
   ],
   "source": [
    "abilities_idx,abilities_max_val = find_strongest_correlation(corr_matrix_abilities)\n",
    "detailed_work_activities_idx,detailed_work_activities_max_val = find_strongest_correlation(corr_matrix_detailed_work_activities)\n",
    "\n",
    "skills_idx,skills_max_val = find_strongest_correlation(corr_matrix_skills)\n",
    "tech_skills_idx,tech_skills_max_val = find_strongest_correlation(corr_matrix_tech_skills)\n",
    "tasks_idx,tasks_max_val = find_strongest_correlation(corr_matrix_tasks)\n",
    "work_activity_idx,work_activity_max_val = find_strongest_correlation(corr_matrix_work_activities)\n",
    "\n",
    "print(\"Most correlated occupation pair based on ability dimension: (\"\n",
    "     + occs[abilities_idx[0]]+\" , \"+occs[abilities_idx[1]]+\")\" + \" Correlation: \"+str(abilities_max_val))\n",
    "\n",
    "print(\"Most correlated occupation pair based on detailed work activity dimension: (\"\n",
    "     + occs[detailed_work_activities_idx[0]]+\" , \"+occs[detailed_work_activities_idx[1]]+\")\"+ \"Correlation: \"+str(detailed_work_activities_max_val))\n",
    "\n",
    "print(\"Most correlated occupation pair based on work activity dimension: (\"\n",
    "     + occs[work_activity_idx[0]]+\" , \"+occs[work_activity_idx[1]]+\")\"+ \"Correlation: \"+str(work_activity_max_val))\n",
    "\n",
    "print(\"Most correlated occupation pair based on skills dimension: (\"\n",
    "     + occs[skills_idx[0]]+\" , \"+occs[skills_idx[1]]+\")\"+ \"Correlation: \"+str(skills_max_val))\n",
    "\n",
    "print(\"Most correlated occupation pair based on technology skills dimension: (\"\n",
    "     + occs[tech_skills_idx[0]]+\" , \"+occs[tech_skills_idx[1]]+\")\"+ \"Correlation: \"+str(tech_skills_max_val))\n",
    "\n",
    "print(\"Most correlated occupation pair based on tasks dimension: (\"\n",
    "     + occs[tasks_idx[0]]+\" , \"+occs[tasks_idx[1]]+\")\"+ \"Correlation: \"+str(tasks_max_val))\n"
   ]
  },
  {
   "cell_type": "code",
   "execution_count": 52,
   "metadata": {},
   "outputs": [
    {
     "name": "stdout",
     "output_type": "stream",
     "text": [
      "Least correlated occupation pair based on ability dimension: (Operations Research Analysts , Business Intelligence Analysts) Correlation: 22.22\n",
      "Least correlated occupation pair based on detailed work activity dimension: (Business Intelligence Analysts , Financial Quantitative Analysts) Correlation: 0.0\n",
      "Least correlated occupation pair based on work activity dimension: (Management Analysts , Biostatisticians)Correlation: 10.0\n",
      "Least correlated occupation pair based on skills dimension: (Advertising and Promotions Manager , Mathematicians) Correlation: 10.0\n",
      "Least correlated occupation pair based on technology skills dimension: (Financial Quantitative Analysts , Business Intelligence Analysts) Correlation: 9.4\n",
      "Least correlated occupation pair based on tasks dimension: (Mathematicians , Advertising and Promotions Manager) Correlation: 0.0\n"
     ]
    }
   ],
   "source": [
    "abilities_idx, abilities_min_val = find_weakest_correlation(corr_matrix_abilities)\n",
    "detailed_work_activities_idx, detailed_work_activities_min_val = find_weakest_correlation(corr_matrix_detailed_work_activities)\n",
    "work_activity_idx, work_activity_min_val = find_weakest_correlation(corr_matrix_work_activities)\n",
    "skills_idx, skills_min_val = find_weakest_correlation(corr_matrix_skills)\n",
    "tech_skills_idx, tech_skills_min_val = find_weakest_correlation(corr_matrix_tech_skills)\n",
    "tasks_idx, tasks_min_val = find_weakest_correlation(corr_matrix_tasks)\n",
    "\n",
    "print(\"Least correlated occupation pair based on ability dimension: (\"\n",
    "     + occs[abilities_idx[0]]+\" , \"+occs[abilities_idx[1]]+\")\" + \" Correlation: \"+str(abilities_min_val))\n",
    "\n",
    "print(\"Least correlated occupation pair based on detailed work activity dimension: (\"\n",
    "     + occs[detailed_work_activities_idx[0]]+\" , \"+occs[detailed_work_activities_idx[1]]+\")\"+ \" Correlation: \"+str(detailed_work_activities_min_val))\n",
    "\n",
    "print(\"Least correlated occupation pair based on work activity dimension: (\"\n",
    "     + occs[work_activity_idx[0]]+\" , \"+occs[work_activity_idx[1]]+\")\"+ \"Correlation: \"+str(work_activity_min_val))\n",
    "\n",
    "print(\"Least correlated occupation pair based on skills dimension: (\"\n",
    "     + occs[skills_idx[0]]+\" , \"+occs[skills_idx[1]]+\")\"+ \" Correlation: \"+str(skills_min_val))\n",
    "\n",
    "print(\"Least correlated occupation pair based on technology skills dimension: (\"\n",
    "     + occs[tech_skills_idx[0]]+\" , \"+occs[tech_skills_idx[1]]+\")\"+ \" Correlation: \"+str(tech_skills_min_val))\n",
    "\n",
    "print(\"Least correlated occupation pair based on tasks dimension: (\"\n",
    "     + occs[tasks_idx[0]]+\" , \"+occs[tasks_idx[1]]+\")\"+ \" Correlation: \"+str(tasks_min_val))\n"
   ]
  },
  {
   "cell_type": "code",
   "execution_count": 53,
   "metadata": {},
   "outputs": [
    {
     "name": "stdout",
     "output_type": "stream",
     "text": [
      "Standard deviation of correlation for abilities dimension: 21.193659850604632\n",
      "Standard deviation of correlation for detailed work activities dimension: 32.3201569581731\n",
      "Standard deviation of correlation for work activity dimension: 24.659171100668548\n",
      "Standard deviation of correlation for skills dimension: 23.570055023846688\n",
      "Standard deviation of correlation for technology skills dimension: 26.155232528106087\n",
      "Standard deviation of correlation for tasks dimension: 27.050975385258226\n"
     ]
    }
   ],
   "source": [
    "std_abilities = np.std(corr_matrix_abilities)\n",
    "std_detailed_work_activities = np.std(corr_matrix_detailed_work_activities)\n",
    "std_work_activity = np.std(corr_matrix_work_activities)\n",
    "std_skills = np.std(corr_matrix_skills)\n",
    "std_tech_skills = np.std(corr_matrix_tech_skills)\n",
    "std_tasks = np.std(corr_matrix_tasks)\n",
    "\n",
    "print(\"Standard deviation of correlation for abilities dimension:\", std_abilities)\n",
    "print(\"Standard deviation of correlation for detailed work activities dimension:\", std_detailed_work_activities)\n",
    "print(\"Standard deviation of correlation for work activity dimension:\", std_work_activity)\n",
    "print(\"Standard deviation of correlation for skills dimension:\", std_skills)\n",
    "print(\"Standard deviation of correlation for technology skills dimension:\", std_tech_skills)\n",
    "print(\"Standard deviation of correlation for tasks dimension:\", std_tasks)\n"
   ]
  }
 ],
 "metadata": {
  "kernelspec": {
   "display_name": "base",
   "language": "python",
   "name": "python3"
  },
  "language_info": {
   "codemirror_mode": {
    "name": "ipython",
    "version": 3
   },
   "file_extension": ".py",
   "mimetype": "text/x-python",
   "name": "python",
   "nbconvert_exporter": "python",
   "pygments_lexer": "ipython3",
   "version": "3.9.7"
  },
  "orig_nbformat": 4
 },
 "nbformat": 4,
 "nbformat_minor": 2
}
